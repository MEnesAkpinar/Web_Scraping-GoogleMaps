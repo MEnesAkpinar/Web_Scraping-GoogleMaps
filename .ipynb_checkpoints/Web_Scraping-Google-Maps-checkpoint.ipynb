{
 "cells": [
  {
   "cell_type": "markdown",
   "id": "8cedad73",
   "metadata": {},
   "source": [
    "Possible keyword list on Google maps browser for toilet place <br>\n",
    "Check on selenium libriary"
   ]
  },
  {
   "cell_type": "code",
   "execution_count": 2,
   "id": "8bfc9056",
   "metadata": {},
   "outputs": [],
   "source": [
    "from selenium import webdriver\n",
    "from selenium.webdriver.support.ui import WebDriverWait\n",
    "from selenium.webdriver.common.by import By\n",
    "from selenium.webdriver.support import expected_conditions as EC\n",
    "from time import sleep"
   ]
  },
  {
   "cell_type": "code",
   "execution_count": 6,
   "id": "7757ff6f",
   "metadata": {},
   "outputs": [
    {
     "name": "stderr",
     "output_type": "stream",
     "text": [
      "C:\\Users\\Enes\\AppData\\Local\\Temp\\ipykernel_6344\\2367404279.py:2: DeprecationWarning: executable_path has been deprecated, please pass in a Service object\n",
      "  driver = webdriver.Chrome(r'C:\\Users\\Enes\\Desktop\\google_maps\\chromedriver.exe')\n"
     ]
    }
   ],
   "source": [
    "# Create the drive and connect the website\n",
    "driver = webdriver.Chrome(r'C:\\Users\\Enes\\Desktop\\google_maps\\chromedriver.exe')\n",
    "driver.get('https://www.google.com/maps/@52.2303201,20.9905102,14z')\n",
    "# give some time to connect the website\n",
    "sleep(2)\n",
    "# To approve the website cookies notification (for the first time entry) - it only be used in case of necessity\n",
    "cookies = driver.find_element(By.CLASS_NAME, 'lssxud')\n",
    "cookies.click()\n",
    "\n",
    "# Define function to enter the desired search place\n",
    "def search(place_name):\n",
    "    place = driver.find_element(By.ID, 'searchboxinput')\n",
    "    place.send_keys(place_name)\n",
    "    submit = driver.find_element(By.ID, 'searchbox-searchbutton')\n",
    "    submit.click()\n",
    "\n",
    "search('wc in istanbul')"
   ]
  },
  {
   "cell_type": "code",
   "execution_count": null,
   "id": "f27dd44b",
   "metadata": {},
   "outputs": [],
   "source": [
    "# sirayla wc listesine girip, her bir lokasyonun puan, yorumunu, cekmek\n",
    "\n",
    "# scor, review summary, yorumu ayni dataframe icine almak.\n",
    "\n"
   ]
  },
  {
   "cell_type": "code",
   "execution_count": 1,
   "id": "d6d81b0d",
   "metadata": {},
   "outputs": [
    {
     "ename": "NameError",
     "evalue": "name 'webdriver' is not defined",
     "output_type": "error",
     "traceback": [
      "\u001b[1;31m---------------------------------------------------------------------------\u001b[0m",
      "\u001b[1;31mNameError\u001b[0m                                 Traceback (most recent call last)",
      "Input \u001b[1;32mIn [1]\u001b[0m, in \u001b[0;36m<cell line: 6>\u001b[1;34m()\u001b[0m\n\u001b[0;32m      3\u001b[0m \u001b[38;5;28;01mfrom\u001b[39;00m \u001b[38;5;21;01mselenium\u001b[39;00m\u001b[38;5;21;01m.\u001b[39;00m\u001b[38;5;21;01mwebdriver\u001b[39;00m\u001b[38;5;21;01m.\u001b[39;00m\u001b[38;5;21;01mcommon\u001b[39;00m\u001b[38;5;21;01m.\u001b[39;00m\u001b[38;5;21;01maction_chains\u001b[39;00m \u001b[38;5;28;01mimport\u001b[39;00m ActionChains\n\u001b[0;32m      5\u001b[0m \u001b[38;5;66;03m# Make browser open in background\u001b[39;00m\n\u001b[1;32m----> 6\u001b[0m options \u001b[38;5;241m=\u001b[39m \u001b[43mwebdriver\u001b[49m\u001b[38;5;241m.\u001b[39mChromeOptions()\n\u001b[0;32m      7\u001b[0m options\u001b[38;5;241m.\u001b[39madd_argument(\u001b[38;5;124m'\u001b[39m\u001b[38;5;124mheadless\u001b[39m\u001b[38;5;124m'\u001b[39m)\n\u001b[0;32m      9\u001b[0m \u001b[38;5;66;03m# Create the webdriver object\u001b[39;00m\n",
      "\u001b[1;31mNameError\u001b[0m: name 'webdriver' is not defined"
     ]
    }
   ],
   "source": [
    "# Import the library Selenium\n",
    "#from selenium import webdriver\n",
    "from selenium.webdriver.common.action_chains import ActionChains\n",
    "  \n",
    "# Make browser open in background\n",
    "options = webdriver.ChromeOptions()\n",
    "options.add_argument('headless')\n",
    "  \n",
    "# Create the webdriver object\n",
    "browser = webdriver.Chrome(\n",
    "    executable_path=\"C:\\chromedriver_win32\\chromedriver.exe\", \n",
    "  options=options)\n",
    "  \n",
    "# Obtain the Google Map URL\n",
    "url = [\"https://www.google.com/maps/place/\\\n",
    "Papa+John's+Pizza/@40.7936551,-74.0124687,17z/data=!3m1!4b1!\\\n",
    "4m5!3m4!1s0x89c2580eaa74451b:0x15d743e4f841e5ed!8m2!3d40.\\\n",
    "7936551!4d-74.0124687\", \"https://www.google.com/maps/place/\\\n",
    "Lucky+Dhaba/@30.653792,76.8165233,17z/data=!3m1!4b1!4m5!3m4!\\\n",
    "1s0x390feb3e3de1a031:0x862036ab85567f75!8m2!3d30.653792!4d76.818712\"]\n",
    "# Initialize variables and declare it 0\n",
    "i = 0\n",
    "  \n",
    "# Create a loop for obtaining data from URLs\n",
    "for i in range(len(url)):\n",
    "  \n",
    "    # Open the Google Map URL\n",
    "    browser.get(url[i])\n",
    "  \n",
    "    # Obtain the title of that place\n",
    "    title = browser.find_element_by_class_name(\n",
    "        \"x3AX1-LfntMc-header-title-title\")\n",
    "    print(i+1, \"-\", title.text)\n",
    "  \n",
    "    # Obtain the ratings of that place\n",
    "    stars = browser.find_element_by_class_name(\"aMPvhf-fI6EEc-KVuj8d\")\n",
    "    print(\"The stars of restaurant are:\", stars.text)\n",
    "    print(\"\\n\")"
   ]
  },
  {
   "cell_type": "code",
   "execution_count": null,
   "id": "fe5adceb",
   "metadata": {},
   "outputs": [],
   "source": []
  }
 ],
 "metadata": {
  "kernelspec": {
   "display_name": "Python 3 (ipykernel)",
   "language": "python",
   "name": "python3"
  },
  "language_info": {
   "codemirror_mode": {
    "name": "ipython",
    "version": 3
   },
   "file_extension": ".py",
   "mimetype": "text/x-python",
   "name": "python",
   "nbconvert_exporter": "python",
   "pygments_lexer": "ipython3",
   "version": "3.9.12"
  }
 },
 "nbformat": 4,
 "nbformat_minor": 5
}
