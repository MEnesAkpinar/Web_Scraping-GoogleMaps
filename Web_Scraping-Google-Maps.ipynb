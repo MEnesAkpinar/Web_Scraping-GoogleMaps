{
 "cells": [
  {
   "cell_type": "markdown",
   "id": "8cedad73",
   "metadata": {},
   "source": [
    "Possible keyword list on Google maps browser for toilet place <br>\n",
    "Check on selenium libriary"
   ]
  },
  {
   "cell_type": "code",
   "execution_count": 37,
   "id": "8bfc9056",
   "metadata": {},
   "outputs": [],
   "source": [
    "from selenium import webdriver\n",
    "from selenium.webdriver.support.ui import WebDriverWait\n",
    "from selenium.webdriver.common.by import By\n",
    "from selenium.webdriver.common.keys import Keys\n",
    "from selenium.webdriver.support import expected_conditions as EC\n",
    "from selenium.common.exceptions import NoSuchElementException\n",
    "from selenium.webdriver.common.action_chains import ActionChains\n",
    "from time import sleep\n",
    "import string\n",
    "import openpyxl\n",
    "import os"
   ]
  },
  {
   "cell_type": "code",
   "execution_count": 57,
   "id": "7757ff6f",
   "metadata": {},
   "outputs": [
    {
     "name": "stderr",
     "output_type": "stream",
     "text": [
      "C:\\Users\\Enes\\AppData\\Local\\Temp\\ipykernel_13364\\3183927172.py:2: DeprecationWarning: executable_path has been deprecated, please pass in a Service object\n",
      "  driver = webdriver.Chrome(r'C:\\Users\\Enes\\Desktop\\google_maps\\chromedriver.exe')\n"
     ]
    },
    {
     "name": "stdout",
     "output_type": "stream",
     "text": [
      "location_name :  Wc\n",
      "location :  Hoca Paşa, İbni Kemal Cd. No:44, 34110 Fatih/İstanbul, Turcja\n",
      "score :  3,4\n",
      "skipping..\n",
      "[<selenium.webdriver.remote.webelement.WebElement (session=\"47d6fc86ed5a780c52f887c0811995a7\", element=\"e662c971-d847-4556-a6f5-5896080a495b\")>, <selenium.webdriver.remote.webelement.WebElement (session=\"47d6fc86ed5a780c52f887c0811995a7\", element=\"1293ba42-22cb-4e6c-9f9f-bac9df51e68d\")>, <selenium.webdriver.remote.webelement.WebElement (session=\"47d6fc86ed5a780c52f887c0811995a7\", element=\"0ab83069-4997-4bc5-9148-a8d141f0558c\")>]\n",
      "review :  (Przetłumaczone przez Google) Nie następny, ale Taksim lub Esteghlal Street są lepsze\n",
      "\n",
      "(Wersja oryginalna)\n",
      "بعد نیست ولی تقسیم یا همون خیابان استقلال بهتره\n",
      "review :  (Przetłumaczone przez Google) Potrzebujesz więcej uwagi na czystość, na przykład znajdziesz ją bardzo czystą w ogrodach i poniżej średniej w miejscach turystycznych, takich jak kolejka linowa Sabanga.Proszę zwrócić większą uwagę, ponieważ…\n",
      "review :  (Przetłumaczone przez Google) Smacznie nieźle\n",
      "\n",
      "(Wersja oryginalna)\n",
      "Lezzetli fena değil\n"
     ]
    }
   ],
   "source": [
    "# Create the drive and connect the website\n",
    "driver = webdriver.Chrome(r'C:\\Users\\Enes\\Desktop\\google_maps\\chromedriver.exe')\n",
    "driver.get('https://www.google.com/maps/@52.2303201,20.9905102,14z')\n",
    "# give some time to connect the website\n",
    "sleep(2)\n",
    "# To approve the website cookies notification (for the first time entry) - it only be used in case of necessity\n",
    "try:\n",
    "    cookies = driver.find_element(By.CLASS_NAME, 'lssxud')\n",
    "    cookies.click()\n",
    "except:\n",
    "    print('No cookies are preseented. Skipping...')\n",
    "\n",
    "# Define function to enter the desired search place\n",
    "def search(place_name):\n",
    "    place = driver.find_element(By.ID, 'searchboxinput')\n",
    "    place.send_keys(place_name)\n",
    "    submit = driver.find_element(By.ID, 'searchbox-searchbutton')\n",
    "    submit.click()\n",
    "\n",
    "    driver.implicitly_wait(3)\n",
    "\n",
    "    # side_list = driver.find_element(By.CLASS_NAME, 'G0bp3e')\n",
    "    # print('list of side elements : ', side_list.text)\n",
    "\n",
    "    side_element = driver.find_element(By.CSS_SELECTOR, 'a[jsan=\"7.hfpxzc,0.aria-label,8.href,0.jsaction,0.jslog\"]')\n",
    "    side_element.click()\n",
    "\n",
    "    location_name = driver.find_element(By.CSS_SELECTOR, 'h1[jsan=\"7.DUwDvf,7.fontHeadlineLarge\"]')\n",
    "    print('location_name : ', location_name.text)\n",
    "\n",
    "    location = driver.find_element(By.CSS_SELECTOR, 'div[jsan=\"7.Io6YTe,7.fontBodyMedium\"]')\n",
    "    print('location : ', location.text)\n",
    "\n",
    "    score = driver.find_element(By.CSS_SELECTOR, 'div[jsan=\"7.fontDisplayLarge\"]')\n",
    "    print('score : ', score.text)\n",
    "\n",
    "    # 'Wiency' \n",
    "    try:\n",
    "        more = driver.find_element(By.CSS_SELECTOR,'button[jsan=\"7.w8nwRe,7.kyuRq,0.aria-controls,0.data-review-id,0.jslog,0.aria-label,0.aria-expanded,22.jsaction\"]' )\n",
    "        more.click()\n",
    "    except:\n",
    "        print('skipping..')\n",
    "\n",
    "        \n",
    "    # 'Daha fazla' \n",
    "    try:\n",
    "        more = driver.find_elements(By.XPATH,'//*[@id=\"QA0Szd\"]/div/div/div[1]/div[3]/div/div[1]/div/div/div[2]/div[44]/div/button/span/span[2]' )\n",
    "        more.click()\n",
    "    except:\n",
    "        print('skipping..')\n",
    "        \n",
    "    review = driver.find_elements(By.CLASS_NAME, 'wiI7pd')\n",
    "    print(review)\n",
    "    for i in range(len(review)):\n",
    "        \n",
    "        print('review : ', review[i].text)\n",
    "\n",
    "\n",
    "search('wc in istanbul')"
   ]
  },
  {
   "cell_type": "code",
   "execution_count": null,
   "id": "f27dd44b",
   "metadata": {},
   "outputs": [],
   "source": [
    "# sirayla wc listesine girip, her bir lokasyonun puan, yorumunu, cekmek\n",
    "\n",
    "# scor, review summary, yorumu ayni dataframe icine almak.\n",
    "\n"
   ]
  },
  {
   "cell_type": "code",
   "execution_count": null,
   "id": "4423dad5",
   "metadata": {},
   "outputs": [],
   "source": [
    "driver.find_"
   ]
  },
  {
   "cell_type": "code",
   "execution_count": 34,
   "id": "29be86c0",
   "metadata": {},
   "outputs": [
    {
     "ename": "SyntaxError",
     "evalue": "invalid syntax (886410845.py, line 18)",
     "output_type": "error",
     "traceback": [
      "\u001b[1;36m  Input \u001b[1;32mIn [34]\u001b[1;36m\u001b[0m\n\u001b[1;33m    print(element)\u001b[0m\n\u001b[1;37m    ^\u001b[0m\n\u001b[1;31mSyntaxError\u001b[0m\u001b[1;31m:\u001b[0m invalid syntax\n"
     ]
    }
   ],
   "source": [
    "from selenium import webdriver\n",
    "from selenium.webdriver.support import expected_conditions as EC\n",
    "\n",
    "\n",
    "# create webdriver object\n",
    "driver = webdriver.Chrome()\n",
    " \n",
    "# enter keyword to search\n",
    "keyword = \"geeksforgeeks\"\n",
    " \n",
    "# get geeksforgeeks.org\n",
    "driver.get(\"https://www.geeksforgeeks.org/\")\n",
    " \n",
    "# get element\n",
    "element = WebDriverWait(driver, 10).until(\n",
    "    EC.visibility_of_element_located(By.XPATH, \"//textarea[@data-test-id='communityItemTextBox']\")\n",
    "\n",
    "print(element)"
   ]
  },
  {
   "cell_type": "code",
   "execution_count": 45,
   "id": "ecaba9fb",
   "metadata": {},
   "outputs": [
    {
     "name": "stderr",
     "output_type": "stream",
     "text": [
      "C:\\Users\\Enes\\AppData\\Local\\Temp\\ipykernel_13364\\2647345432.py:1: DeprecationWarning: executable_path has been deprecated, please pass in a Service object\n",
      "  driver = webdriver.Chrome(r'C:\\Users\\Enes\\Desktop\\google_maps\\chromedriver.exe')\n"
     ]
    },
    {
     "ename": "NameError",
     "evalue": "name 'search_box' is not defined",
     "output_type": "error",
     "traceback": [
      "\u001b[1;31m---------------------------------------------------------------------------\u001b[0m",
      "\u001b[1;31mNameError\u001b[0m                                 Traceback (most recent call last)",
      "Input \u001b[1;32mIn [45]\u001b[0m, in \u001b[0;36m<cell line: 14>\u001b[1;34m()\u001b[0m\n\u001b[0;32m     11\u001b[0m cookies\u001b[38;5;241m.\u001b[39mclick()\n\u001b[0;32m     13\u001b[0m \u001b[38;5;66;03m# enter the location you want to search for\u001b[39;00m\n\u001b[1;32m---> 14\u001b[0m \u001b[43msearch_box\u001b[49m\u001b[38;5;241m.\u001b[39msend_keys(\u001b[38;5;124m\"\u001b[39m\u001b[38;5;124mNew York City\u001b[39m\u001b[38;5;124m\"\u001b[39m)\n\u001b[0;32m     17\u001b[0m search_button \u001b[38;5;241m=\u001b[39m driver\u001b[38;5;241m.\u001b[39mfind_element_by_name(\u001b[38;5;124m\"\u001b[39m\u001b[38;5;124mbtnK\u001b[39m\u001b[38;5;124m\"\u001b[39m)\n\u001b[0;32m     18\u001b[0m search_button\u001b[38;5;241m.\u001b[39mclick()\n",
      "\u001b[1;31mNameError\u001b[0m: name 'search_box' is not defined"
     ]
    }
   ],
   "source": [
    "driver = webdriver.Chrome(r'C:\\Users\\Enes\\Desktop\\google_maps\\chromedriver.exe')\n",
    "wait = WebDriverWait(driver,5)\n",
    "\n",
    "#opening the google maps\n",
    "driver.get('https://www.google.com/maps/@52.2303201,20.9905102,14z')\n",
    "sleep(2)\n",
    "\n",
    "\n",
    "# To approve the website cookies notification (for the first time entry) - it only be used in case of necessity\n",
    "cookies = driver.find_element(By.CLASS_NAME, 'lssxud')\n",
    "cookies.click()\n",
    "\n",
    "# enter the location you want to search for\n",
    "search_box.send_keys(\"New York City\")\n",
    "\n",
    "\n",
    "search_button = driver.find_element_by_name(\"btnK\")\n",
    "search_button.click()\n",
    "\n",
    "\n",
    "# wait for the page to load\n",
    "try:\n",
    "    element = WebDriverWait(driver, 10).until(\n",
    "        EC.presence_of_element_located((By.ID, \"pane\"))\n",
    "    )\n",
    "finally:\n",
    "    # extract the location information\n",
    "    location_info = driver.find_element_by_id(\"pane\").text\n",
    "    print(location_info)\n",
    "\n",
    "    \n",
    "driver.close()\n"
   ]
  },
  {
   "cell_type": "code",
   "execution_count": null,
   "id": "7d6445f7",
   "metadata": {},
   "outputs": [],
   "source": []
  }
 ],
 "metadata": {
  "kernelspec": {
   "display_name": "Python 3 (ipykernel)",
   "language": "python",
   "name": "python3"
  },
  "language_info": {
   "codemirror_mode": {
    "name": "ipython",
    "version": 3
   },
   "file_extension": ".py",
   "mimetype": "text/x-python",
   "name": "python",
   "nbconvert_exporter": "python",
   "pygments_lexer": "ipython3",
   "version": "3.9.12"
  }
 },
 "nbformat": 4,
 "nbformat_minor": 5
}
