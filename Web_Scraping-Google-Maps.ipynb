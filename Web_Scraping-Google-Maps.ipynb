{
 "cells": [
  {
   "cell_type": "markdown",
   "id": "8cedad73",
   "metadata": {},
   "source": [
    "Possible keyword list on Google maps browser for toilet place <br>\n",
    "Check on selenium libriary"
   ]
  },
  {
   "cell_type": "code",
   "execution_count": 37,
   "id": "8bfc9056",
   "metadata": {},
   "outputs": [],
   "source": [
    "from selenium import webdriver\n",
    "from selenium.webdriver.support.ui import WebDriverWait\n",
    "from selenium.webdriver.common.by import By\n",
    "from selenium.webdriver.common.keys import Keys\n",
    "from selenium.webdriver.support import expected_conditions as EC\n",
    "from selenium.common.exceptions import NoSuchElementException\n",
    "from selenium.webdriver.common.action_chains import ActionChains\n",
    "from time import sleep\n",
    "import string\n",
    "import openpyxl\n",
    "import os"
   ]
  },
  {
   "cell_type": "code",
   "execution_count": 72,
   "id": "7757ff6f",
   "metadata": {},
   "outputs": [
    {
     "name": "stderr",
     "output_type": "stream",
     "text": [
      "C:\\Users\\Enes\\AppData\\Local\\Temp\\ipykernel_13364\\4078301145.py:2: DeprecationWarning: executable_path has been deprecated, please pass in a Service object\n",
      "  driver = webdriver.Chrome(r'C:\\Users\\Enes\\Desktop\\google_maps\\chromedriver.exe')\n"
     ]
    },
    {
     "name": "stdout",
     "output_type": "stream",
     "text": [
      "location_name :  Wc\n",
      "location :  Hoca Paşa, İbni Kemal Cd. No:44, 34110 Fatih/İstanbul, Turcja\n",
      "score :  3,4\n",
      "found!\n"
     ]
    },
    {
     "ename": "NameError",
     "evalue": "name 'time' is not defined",
     "output_type": "error",
     "traceback": [
      "\u001b[1;31m---------------------------------------------------------------------------\u001b[0m",
      "\u001b[1;31mNameError\u001b[0m                                 Traceback (most recent call last)",
      "Input \u001b[1;32mIn [72]\u001b[0m, in \u001b[0;36m<cell line: 63>\u001b[1;34m()\u001b[0m\n\u001b[0;32m     58\u001b[0m         \u001b[38;5;28mprint\u001b[39m(\u001b[38;5;124m\"\u001b[39m\u001b[38;5;124mskipping...\u001b[39m\u001b[38;5;124m\"\u001b[39m)\n\u001b[0;32m     60\u001b[0m     time\u001b[38;5;241m.\u001b[39msleep(\u001b[38;5;241m2\u001b[39m)\n\u001b[1;32m---> 63\u001b[0m \u001b[43msearch\u001b[49m\u001b[43m(\u001b[49m\u001b[38;5;124;43m'\u001b[39;49m\u001b[38;5;124;43mwc in istanbul\u001b[39;49m\u001b[38;5;124;43m'\u001b[39;49m\u001b[43m)\u001b[49m\n",
      "Input \u001b[1;32mIn [72]\u001b[0m, in \u001b[0;36msearch\u001b[1;34m(place_name)\u001b[0m\n\u001b[0;32m     57\u001b[0m \u001b[38;5;28;01mexcept\u001b[39;00m:\n\u001b[0;32m     58\u001b[0m     \u001b[38;5;28mprint\u001b[39m(\u001b[38;5;124m\"\u001b[39m\u001b[38;5;124mskipping...\u001b[39m\u001b[38;5;124m\"\u001b[39m)\n\u001b[1;32m---> 60\u001b[0m \u001b[43mtime\u001b[49m\u001b[38;5;241m.\u001b[39msleep(\u001b[38;5;241m2\u001b[39m)\n",
      "\u001b[1;31mNameError\u001b[0m: name 'time' is not defined"
     ]
    }
   ],
   "source": [
    "# Create the drive and connect the website\n",
    "driver = webdriver.Chrome(r'C:\\Users\\Enes\\Desktop\\google_maps\\chromedriver.exe')\n",
    "driver.get('https://www.google.com/maps/@52.2303201,20.9905102,14z')\n",
    "\n",
    "# give some time to connect the website\n",
    "sleep(2)\n",
    "\n",
    "# To approve the website cookies notification (for the first time entry) - it only be used in case of necessity\n",
    "try:\n",
    "    cookies = driver.find_element(By.CLASS_NAME, 'lssxud')\n",
    "    cookies.click()\n",
    "except:\n",
    "    print('No cookies are preseented. Skipping...')\n",
    "\n",
    "    \n",
    "# Define function to enter the desired search place\n",
    "def search(place_name):\n",
    "    place = driver.find_element(By.ID, 'searchboxinput')\n",
    "    place.send_keys(place_name)\n",
    "    submit = driver.find_element(By.ID, 'searchbox-searchbutton')\n",
    "    submit.click()\n",
    "\n",
    "    driver.implicitly_wait(3)\n",
    "\n",
    "    # side_list = driver.find_element(By.CLASS_NAME, 'G0bp3e')\n",
    "    # print('list of side elements : ', side_list.text)\n",
    "\n",
    "    side_element = driver.find_element(By.CSS_SELECTOR, 'a[jsan=\"7.hfpxzc,0.aria-label,8.href,0.jsaction,0.jslog\"]')\n",
    "    side_element.click()\n",
    "    \n",
    "    sleep(2)\n",
    "\n",
    "    location_name = driver.find_element(By.CSS_SELECTOR, 'h1[jsan=\"7.DUwDvf,7.fontHeadlineLarge\"]')\n",
    "    print('location_name : ', location_name.text)\n",
    "    \n",
    "    sleep(2)\n",
    "\n",
    "    location = driver.find_element(By.CSS_SELECTOR, 'div[jsan=\"7.Io6YTe,7.fontBodyMedium\"]')\n",
    "    print('location : ', location.text)\n",
    "    \n",
    "    sleep(2)\n",
    "\n",
    "    score = driver.find_element(By.CSS_SELECTOR, 'div[jsan=\"7.fontDisplayLarge\"]')\n",
    "    print('score : ', score.text)\n",
    "    \n",
    "    sleep(2)\n",
    "    \n",
    "    \n",
    "    \n",
    "   # 'More Reviews' \n",
    "    try:\n",
    "        # more_comments = driver.find_element(By.CSS_SELECTOR, 'span[jsan=\"7.wNNZR,7.fontTitleSmall\"]')\n",
    "        more_comments = driver.find_element(By.XPATH, '//*[@id=\"QA0Szd\"]/div/div/div[1]/div[3]/div/div[1]/div/div/div[2]/div[44]/div/button/span/span[2]')\n",
    "        driver.implicitly_wait(10)\n",
    "        ActionChains(driver).move_to_element(more_comments).click(more_comments).perform()\n",
    "        print(\"found!\")\n",
    "    except:\n",
    "        print(\"skipping...\")\n",
    "\n",
    "    sleep(2)\n",
    "    \n",
    " \n",
    "search('wc in istanbul')"
   ]
  },
  {
   "cell_type": "code",
   "execution_count": null,
   "id": "b9e53e3b",
   "metadata": {},
   "outputs": [],
   "source": [
    "   # 'More Reviews' \n",
    "    try:\n",
    "        more = driver.find_elements(By.XPATH,'//*[@id=\"QA0Szd\"]/div/div/div[1]/div[3]/div/div[1]/div/div/div[2]/div[44]/div/button/span/span[2]' )\n",
    "        more.click()\n",
    "    except:\n",
    "        print('skipping..')\n",
    "        \n",
    "    review = driver.find_elements(By.CLASS_NAME, 'wiI7pd')\n",
    "    \n",
    "    for i in range(len(review)):\n",
    "        print('review : ', review[i].text)\n",
    "        \n",
    "        # 'More' \n",
    "        try:\n",
    "            more_comments = driver.find_element(By.XPATH, '//*[@id=\"QA0Szd\"]/div/div/div[1]/div[3]/div/div[1]/div/div/div[2]/div[44]/div/button/span/span[2]')\n",
    "            driver.implicitly_wait(10)\n",
    "            ActionChains(driver).move_to_element(more_comments).click(more_comments).perform()\n",
    "        except:\n",
    "            print('skipping..')\n",
    "         \n",
    "    sleep(2)\n",
    "    \n"
   ]
  },
  {
   "cell_type": "code",
   "execution_count": null,
   "id": "72ea4e94",
   "metadata": {},
   "outputs": [],
   "source": [
    "# Scroll to element with ID \"element_id\"\n",
    "element = driver.find_element_by_id(\"element_id\")\n",
    "driver.execute_script(\"arguments[0].scrollIntoView();\", element)"
   ]
  }
 ],
 "metadata": {
  "kernelspec": {
   "display_name": "Python 3 (ipykernel)",
   "language": "python",
   "name": "python3"
  },
  "language_info": {
   "codemirror_mode": {
    "name": "ipython",
    "version": 3
   },
   "file_extension": ".py",
   "mimetype": "text/x-python",
   "name": "python",
   "nbconvert_exporter": "python",
   "pygments_lexer": "ipython3",
   "version": "3.9.12"
  }
 },
 "nbformat": 4,
 "nbformat_minor": 5
}
